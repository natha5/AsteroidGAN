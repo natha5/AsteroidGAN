{
  "nbformat": 4,
  "nbformat_minor": 0,
  "metadata": {
    "colab": {
      "provenance": []
    },
    "kernelspec": {
      "name": "python3",
      "display_name": "Python 3"
    },
    "language_info": {
      "name": "python"
    },
    "gpuClass": "standard"
  },
  "cells": [
    {
      "cell_type": "markdown",
      "source": [
        "# Imports"
      ],
      "metadata": {
        "id": "HSWuwdFI0uqr"
      }
    },
    {
      "cell_type": "code",
      "execution_count": 2,
      "metadata": {
        "id": "CmY_lJmazXLD"
      },
      "outputs": [],
      "source": [
        "import numpy as np\n",
        "import pandas as pd\n",
        "import random as rand\n",
        "\n",
        "\n",
        "from keras.utils import to_categorical\n",
        "from keras.layers import Dense, Activation, Conv1D, Conv2D, Dropout\n",
        "from keras.models import Sequential"
      ]
    },
    {
      "cell_type": "markdown",
      "source": [
        "# Data pre-processing\n",
        "\n",
        "Due to the large size of dataset, many columns that are not needed and some rows containing null values have already been dropped"
      ],
      "metadata": {
        "id": "31YHj_tf0rBR"
      }
    },
    {
      "cell_type": "code",
      "source": [
        "data = pd.read_csv(\"dataset.csv\")\n",
        "\n",
        "data = data.drop(['class', 'epoch_cal'], axis=1)\n",
        "data = data.dropna()\n",
        "data['neo'] = data['neo'].replace(('Y','N'), (1,0))\n",
        "data['pha'] = data['pha'].replace(('Y','N'), (1,0))\n",
        "\n",
        "data = data.astype('float32')\n",
        "data /= 255\n",
        "\n",
        "print(data.shape)"
      ],
      "metadata": {
        "id": "NaRAER8R0w2L",
        "colab": {
          "base_uri": "https://localhost:8080/"
        },
        "outputId": "fbf3d5d4-7609-478d-84db-61b732c12d3b"
      },
      "execution_count": 17,
      "outputs": [
        {
          "output_type": "stream",
          "name": "stdout",
          "text": [
            "(131124, 16)\n"
          ]
        }
      ]
    },
    {
      "cell_type": "markdown",
      "source": [
        "Training parameters\n"
      ],
      "metadata": {
        "id": "Im19QWilH2OL"
      }
    },
    {
      "cell_type": "code",
      "source": [
        "INPUT_SHAPE = (16,1)\n",
        "OPTIMIZER = 'adam'\n",
        "LOSS = 'binary_crossentropy'\n",
        "METRICS = 'accuracy'\n",
        "\n",
        "BATCH_SIZE = 128\n",
        "N_EPOCHS = 20\n",
        "VERBOSE = 1\n",
        "VALIDATION_SPLIT = 0.2"
      ],
      "metadata": {
        "id": "nfLDJUYCNVvI"
      },
      "execution_count": 18,
      "outputs": []
    },
    {
      "cell_type": "markdown",
      "source": [
        "# Generator model\n",
        "16 outputs as there are 16 columns in the dataset"
      ],
      "metadata": {
        "id": "4yFogldYp9gW"
      }
    },
    {
      "cell_type": "code",
      "source": [
        "def make_generator():\n",
        "  model = Sequential()\n",
        "  \n",
        "  model.add(Dense(40, activation='relu', input_shape=INPUT_SHAPE))\n",
        "  model.add(Dense(16, activation='sigmoid'))\n",
        "\n",
        "  return model"
      ],
      "metadata": {
        "id": "594ZrKNrNOVt"
      },
      "execution_count": 21,
      "outputs": []
    },
    {
      "cell_type": "code",
      "source": [
        "def generate_fakes():\n",
        "  neo = rand.choice([1,0]) \n",
        "  pha = rand.choice([1,0])\n",
        "  H = rand.uniform(0,10000)\n",
        "  diameter = rand.uniform(0,100000)\n",
        "  albedo = rand.uniform(0,1)\n",
        "  e = rand.uniform(0, 0.002)\n",
        "  a = rand.uniform(0,1)\n",
        "  q = rand.uniform(0,1)\n",
        "  i = rand.uniform(0,1)\n",
        "  om = rand.uniform(0,1)\n",
        "  w = rand.uniform(0,2)\n",
        "  ad = rand.uniform(0,0.05)\n",
        "  n = rand.uniform(0,0.01)\n",
        "  tp_cal = rand.uniform(0,100000)\n",
        "  per = rand.uniform(0,10)\n",
        "  moid = rand.uniform(0,0.1)\n",
        "\n",
        "  X = np.array([[neo, pha, H, diameter, albedo, e, a, q, i, om, w, ad, n, tp_cal, per, moid]])\n",
        "  return X"
      ],
      "metadata": {
        "id": "ZFO_oZ2de-yW"
      },
      "execution_count": 9,
      "outputs": []
    },
    {
      "cell_type": "markdown",
      "source": [
        "# Discriminator model\n",
        "This is a binary CNN classifier, to determine whether the input is 'real' or not"
      ],
      "metadata": {
        "id": "nfK5IwLMrRPf"
      }
    },
    {
      "cell_type": "code",
      "source": [
        "def make_discriminator():\n",
        "  model = Sequential()\n",
        "\n",
        "  model.add(Conv1D(64, kernel_size=5, padding='same', activation='relu', input_shape=INPUT_SHAPE))\n",
        "\n",
        "  model.add(Dense(1, activation='sigmoid'))\n",
        "\n",
        "  return model"
      ],
      "metadata": {
        "id": "yHa3MhT8rQvA"
      },
      "execution_count": 6,
      "outputs": []
    },
    {
      "cell_type": "code",
      "source": [
        "model = make_discriminator()\n",
        "\n",
        "model.compile(loss=LOSS, optimizer=OPTIMIZER, metrics=METRICS)\n",
        "model.summary()"
      ],
      "metadata": {
        "colab": {
          "base_uri": "https://localhost:8080/"
        },
        "id": "slp2HkUaOfmN",
        "outputId": "25a5df08-7523-45a7-84d9-8f65391e59ae"
      },
      "execution_count": 7,
      "outputs": [
        {
          "output_type": "stream",
          "name": "stdout",
          "text": [
            "Model: \"sequential\"\n",
            "_________________________________________________________________\n",
            " Layer (type)                Output Shape              Param #   \n",
            "=================================================================\n",
            " conv1d (Conv1D)             (None, 16, 64)            384       \n",
            "                                                                 \n",
            " dense (Dense)               (None, 16, 1)             65        \n",
            "                                                                 \n",
            "=================================================================\n",
            "Total params: 449\n",
            "Trainable params: 449\n",
            "Non-trainable params: 0\n",
            "_________________________________________________________________\n"
          ]
        }
      ]
    },
    {
      "cell_type": "code",
      "source": [
        "x_real = data.head(65000)\n",
        "y_real = np.ones((65000))"
      ],
      "metadata": {
        "id": "15lI4UpzrFUc"
      },
      "execution_count": 8,
      "outputs": []
    },
    {
      "cell_type": "markdown",
      "source": [
        "Generate random, fake samples for training discriminator"
      ],
      "metadata": {
        "id": "OZbVrKZ7e_fU"
      }
    },
    {
      "cell_type": "code",
      "source": [
        "x_fake = np.array([[]])\n",
        "for i in range(65000):\n",
        "  # fix below line - needs to add as a new row, not each value from the function as its own separate row\n",
        "  current_fake = generate_fakes()\n",
        "  x_fake = np.append(x_fake, current_fake)\n",
        "\n",
        "y_fake = np.zeros(65000)\n",
        "\n",
        "x_fake = x_fake.reshape(65000,16)\n",
        "print(x_fake.shape)\n",
        "x = pd.DataFrame(x_fake)\n",
        "print(x.shape, x_real.shape)\n",
        "\n",
        "\n",
        "x = np.append(x,x_real)\n",
        "y = pd.DataFrame(pd.Series(y_real))\n",
        "y = pd.concat([y, pd.Series(y_fake)])\n",
        "\n",
        "print(x.shape, y.shape)\n",
        "\n",
        "x = np.reshape(x, (130000,16))\n",
        "\n",
        "print(x.shape, y.shape)\n"
      ],
      "metadata": {
        "id": "AkmvH66zSjMt",
        "outputId": "dfe469e3-5152-4d6f-fb26-038ad5b030fe",
        "colab": {
          "base_uri": "https://localhost:8080/"
        }
      },
      "execution_count": 14,
      "outputs": [
        {
          "output_type": "stream",
          "name": "stdout",
          "text": [
            "(65000, 16)\n",
            "(65000, 16) (65000, 16)\n",
            "(2080000,) (130000, 1)\n",
            "(130000, 16) (130000, 1)\n"
          ]
        }
      ]
    },
    {
      "cell_type": "code",
      "source": [
        "print(x.shape, y.shape)\n",
        "\n",
        "history = model.fit(x, y, epochs=N_EPOCHS, batch_size=BATCH_SIZE, verbose=VERBOSE, validation_split=VALIDATION_SPLIT)"
      ],
      "metadata": {
        "id": "9DwYeN-wCuzq",
        "outputId": "3d4dd6e9-6265-44b0-b38f-75f38225694f",
        "colab": {
          "base_uri": "https://localhost:8080/"
        }
      },
      "execution_count": 15,
      "outputs": [
        {
          "output_type": "stream",
          "name": "stdout",
          "text": [
            "(130000, 16) (130000, 1)\n",
            "Epoch 1/20\n",
            "813/813 [==============================] - 4s 4ms/step - loss: 1.9440 - accuracy: 0.8357 - val_loss: 4.8689 - val_accuracy: 0.6544\n",
            "Epoch 2/20\n",
            "813/813 [==============================] - 2s 3ms/step - loss: 1.8528 - accuracy: 0.8580 - val_loss: 4.8296 - val_accuracy: 0.6723\n",
            "Epoch 3/20\n",
            "813/813 [==============================] - 2s 3ms/step - loss: 1.8353 - accuracy: 0.8659 - val_loss: 4.8159 - val_accuracy: 0.6806\n",
            "Epoch 4/20\n",
            "813/813 [==============================] - 2s 3ms/step - loss: 1.8267 - accuracy: 0.8696 - val_loss: 4.8049 - val_accuracy: 0.6840\n",
            "Epoch 5/20\n",
            "813/813 [==============================] - 2s 3ms/step - loss: 1.8212 - accuracy: 0.8714 - val_loss: 4.7973 - val_accuracy: 0.6846\n",
            "Epoch 6/20\n",
            "813/813 [==============================] - 3s 4ms/step - loss: 1.8178 - accuracy: 0.8723 - val_loss: 4.7972 - val_accuracy: 0.6839\n",
            "Epoch 7/20\n",
            "813/813 [==============================] - 2s 3ms/step - loss: 1.8151 - accuracy: 0.8733 - val_loss: 4.7934 - val_accuracy: 0.6847\n",
            "Epoch 8/20\n",
            "813/813 [==============================] - 2s 3ms/step - loss: 1.8132 - accuracy: 0.8739 - val_loss: 4.8119 - val_accuracy: 0.6719\n",
            "Epoch 9/20\n",
            "813/813 [==============================] - 2s 3ms/step - loss: 1.8128 - accuracy: 0.8740 - val_loss: 4.7916 - val_accuracy: 0.6840\n",
            "Epoch 10/20\n",
            "813/813 [==============================] - 2s 3ms/step - loss: 1.8111 - accuracy: 0.8746 - val_loss: 4.7902 - val_accuracy: 0.6843\n",
            "Epoch 11/20\n",
            "813/813 [==============================] - 3s 4ms/step - loss: 1.8099 - accuracy: 0.8750 - val_loss: 4.7890 - val_accuracy: 0.6843\n",
            "Epoch 12/20\n",
            "813/813 [==============================] - 2s 3ms/step - loss: 1.8089 - accuracy: 0.8753 - val_loss: 4.7909 - val_accuracy: 0.6836\n",
            "Epoch 13/20\n",
            "813/813 [==============================] - 2s 3ms/step - loss: 1.8082 - accuracy: 0.8756 - val_loss: 4.7861 - val_accuracy: 0.6849\n",
            "Epoch 14/20\n",
            "813/813 [==============================] - 2s 3ms/step - loss: 1.9869 - accuracy: 0.8643 - val_loss: 3.8356 - val_accuracy: 0.7458\n",
            "Epoch 15/20\n",
            "813/813 [==============================] - 2s 3ms/step - loss: 1.9417 - accuracy: 0.8672 - val_loss: 4.7867 - val_accuracy: 0.6840\n",
            "Epoch 16/20\n",
            "813/813 [==============================] - 3s 3ms/step - loss: 1.8075 - accuracy: 0.8760 - val_loss: 4.7880 - val_accuracy: 0.6838\n",
            "Epoch 17/20\n",
            "813/813 [==============================] - 2s 3ms/step - loss: 1.8068 - accuracy: 0.8763 - val_loss: 4.7849 - val_accuracy: 0.6847\n",
            "Epoch 18/20\n",
            "813/813 [==============================] - 2s 3ms/step - loss: 1.8063 - accuracy: 0.8764 - val_loss: 4.7845 - val_accuracy: 0.6848\n",
            "Epoch 19/20\n",
            "813/813 [==============================] - 2s 3ms/step - loss: 1.8059 - accuracy: 0.8766 - val_loss: 4.7856 - val_accuracy: 0.6845\n",
            "Epoch 20/20\n",
            "813/813 [==============================] - 2s 3ms/step - loss: 1.8055 - accuracy: 0.8767 - val_loss: 4.7844 - val_accuracy: 0.6848\n"
          ]
        }
      ]
    },
    {
      "cell_type": "markdown",
      "source": [
        "# Putting the GAN together"
      ],
      "metadata": {
        "id": "-h1o0Ycc02vZ"
      }
    },
    {
      "cell_type": "code",
      "source": [
        "def make_gan(generator, discriminator):\n",
        "  discriminator.trainable = False\n",
        "  model = Sequential()\n",
        "  model.add(generator)\n",
        "  model.add(discriminator)\n",
        "  model.compile(loss='binary_crossentropy', optimizer=OPTIMIZER)\n",
        "  return model"
      ],
      "metadata": {
        "id": "QSBHHSoV06Oh"
      },
      "execution_count": 19,
      "outputs": []
    },
    {
      "cell_type": "code",
      "source": [],
      "metadata": {
        "id": "fjCi2SdzqEMK"
      },
      "execution_count": null,
      "outputs": []
    },
    {
      "cell_type": "code",
      "source": [
        "generator = make_generator()\n",
        "discriminator = make_discriminator()\n",
        "gan = make_gan(generator, discriminator)\n",
        "gan.summary()"
      ],
      "metadata": {
        "id": "UNA2v9Mg1_Hw",
        "colab": {
          "base_uri": "https://localhost:8080/",
          "height": 571
        },
        "outputId": "9b2a6ab1-7a5f-4348-9aea-bee80a38e53b"
      },
      "execution_count": 23,
      "outputs": [
        {
          "output_type": "error",
          "ename": "ValueError",
          "evalue": "ignored",
          "traceback": [
            "\u001b[0;31m---------------------------------------------------------------------------\u001b[0m",
            "\u001b[0;31mValueError\u001b[0m                                Traceback (most recent call last)",
            "\u001b[0;32m<ipython-input-23-1c802e57da5d>\u001b[0m in \u001b[0;36m<cell line: 3>\u001b[0;34m()\u001b[0m\n\u001b[1;32m      1\u001b[0m \u001b[0mgenerator\u001b[0m \u001b[0;34m=\u001b[0m \u001b[0mmake_generator\u001b[0m\u001b[0;34m(\u001b[0m\u001b[0;34m)\u001b[0m\u001b[0;34m\u001b[0m\u001b[0;34m\u001b[0m\u001b[0m\n\u001b[1;32m      2\u001b[0m \u001b[0mdiscriminator\u001b[0m \u001b[0;34m=\u001b[0m \u001b[0mmake_discriminator\u001b[0m\u001b[0;34m(\u001b[0m\u001b[0;34m)\u001b[0m\u001b[0;34m\u001b[0m\u001b[0;34m\u001b[0m\u001b[0m\n\u001b[0;32m----> 3\u001b[0;31m \u001b[0mgan\u001b[0m \u001b[0;34m=\u001b[0m \u001b[0mmake_gan\u001b[0m\u001b[0;34m(\u001b[0m\u001b[0mgenerator\u001b[0m\u001b[0;34m,\u001b[0m \u001b[0mdiscriminator\u001b[0m\u001b[0;34m)\u001b[0m\u001b[0;34m\u001b[0m\u001b[0;34m\u001b[0m\u001b[0m\n\u001b[0m\u001b[1;32m      4\u001b[0m \u001b[0mgan\u001b[0m\u001b[0;34m.\u001b[0m\u001b[0msummary\u001b[0m\u001b[0;34m(\u001b[0m\u001b[0;34m)\u001b[0m\u001b[0;34m\u001b[0m\u001b[0;34m\u001b[0m\u001b[0m\n",
            "\u001b[0;32m<ipython-input-19-2eb1d975d33e>\u001b[0m in \u001b[0;36mmake_gan\u001b[0;34m(generator, discriminator)\u001b[0m\n\u001b[1;32m      2\u001b[0m   \u001b[0mmodel\u001b[0m \u001b[0;34m=\u001b[0m \u001b[0mSequential\u001b[0m\u001b[0;34m(\u001b[0m\u001b[0;34m)\u001b[0m\u001b[0;34m\u001b[0m\u001b[0;34m\u001b[0m\u001b[0m\n\u001b[1;32m      3\u001b[0m   \u001b[0mmodel\u001b[0m\u001b[0;34m.\u001b[0m\u001b[0madd\u001b[0m\u001b[0;34m(\u001b[0m\u001b[0mgenerator\u001b[0m\u001b[0;34m)\u001b[0m\u001b[0;34m\u001b[0m\u001b[0;34m\u001b[0m\u001b[0m\n\u001b[0;32m----> 4\u001b[0;31m   \u001b[0mmodel\u001b[0m\u001b[0;34m.\u001b[0m\u001b[0madd\u001b[0m\u001b[0;34m(\u001b[0m\u001b[0mdiscriminator\u001b[0m\u001b[0;34m)\u001b[0m\u001b[0;34m\u001b[0m\u001b[0;34m\u001b[0m\u001b[0m\n\u001b[0m\u001b[1;32m      5\u001b[0m   \u001b[0mmodel\u001b[0m\u001b[0;34m.\u001b[0m\u001b[0mcompile\u001b[0m\u001b[0;34m(\u001b[0m\u001b[0mloss\u001b[0m\u001b[0;34m=\u001b[0m\u001b[0;34m'binary_crossentropy'\u001b[0m\u001b[0;34m,\u001b[0m \u001b[0moptimizer\u001b[0m\u001b[0;34m=\u001b[0m\u001b[0mOPTIMIZER\u001b[0m\u001b[0;34m)\u001b[0m\u001b[0;34m\u001b[0m\u001b[0;34m\u001b[0m\u001b[0m\n\u001b[1;32m      6\u001b[0m   \u001b[0;32mreturn\u001b[0m \u001b[0mmodel\u001b[0m\u001b[0;34m\u001b[0m\u001b[0;34m\u001b[0m\u001b[0m\n",
            "\u001b[0;32m/usr/local/lib/python3.9/dist-packages/tensorflow/python/trackable/base.py\u001b[0m in \u001b[0;36m_method_wrapper\u001b[0;34m(self, *args, **kwargs)\u001b[0m\n\u001b[1;32m    203\u001b[0m     \u001b[0mself\u001b[0m\u001b[0;34m.\u001b[0m\u001b[0m_self_setattr_tracking\u001b[0m \u001b[0;34m=\u001b[0m \u001b[0;32mFalse\u001b[0m  \u001b[0;31m# pylint: disable=protected-access\u001b[0m\u001b[0;34m\u001b[0m\u001b[0;34m\u001b[0m\u001b[0m\n\u001b[1;32m    204\u001b[0m     \u001b[0;32mtry\u001b[0m\u001b[0;34m:\u001b[0m\u001b[0;34m\u001b[0m\u001b[0;34m\u001b[0m\u001b[0m\n\u001b[0;32m--> 205\u001b[0;31m       \u001b[0mresult\u001b[0m \u001b[0;34m=\u001b[0m \u001b[0mmethod\u001b[0m\u001b[0;34m(\u001b[0m\u001b[0mself\u001b[0m\u001b[0;34m,\u001b[0m \u001b[0;34m*\u001b[0m\u001b[0margs\u001b[0m\u001b[0;34m,\u001b[0m \u001b[0;34m**\u001b[0m\u001b[0mkwargs\u001b[0m\u001b[0;34m)\u001b[0m\u001b[0;34m\u001b[0m\u001b[0;34m\u001b[0m\u001b[0m\n\u001b[0m\u001b[1;32m    206\u001b[0m     \u001b[0;32mfinally\u001b[0m\u001b[0;34m:\u001b[0m\u001b[0;34m\u001b[0m\u001b[0;34m\u001b[0m\u001b[0m\n\u001b[1;32m    207\u001b[0m       \u001b[0mself\u001b[0m\u001b[0;34m.\u001b[0m\u001b[0m_self_setattr_tracking\u001b[0m \u001b[0;34m=\u001b[0m \u001b[0mprevious_value\u001b[0m  \u001b[0;31m# pylint: disable=protected-access\u001b[0m\u001b[0;34m\u001b[0m\u001b[0;34m\u001b[0m\u001b[0m\n",
            "\u001b[0;32m/usr/local/lib/python3.9/dist-packages/keras/utils/traceback_utils.py\u001b[0m in \u001b[0;36merror_handler\u001b[0;34m(*args, **kwargs)\u001b[0m\n\u001b[1;32m     68\u001b[0m             \u001b[0;31m# To get the full stack trace, call:\u001b[0m\u001b[0;34m\u001b[0m\u001b[0;34m\u001b[0m\u001b[0m\n\u001b[1;32m     69\u001b[0m             \u001b[0;31m# `tf.debugging.disable_traceback_filtering()`\u001b[0m\u001b[0;34m\u001b[0m\u001b[0;34m\u001b[0m\u001b[0m\n\u001b[0;32m---> 70\u001b[0;31m             \u001b[0;32mraise\u001b[0m \u001b[0me\u001b[0m\u001b[0;34m.\u001b[0m\u001b[0mwith_traceback\u001b[0m\u001b[0;34m(\u001b[0m\u001b[0mfiltered_tb\u001b[0m\u001b[0;34m)\u001b[0m \u001b[0;32mfrom\u001b[0m \u001b[0;32mNone\u001b[0m\u001b[0;34m\u001b[0m\u001b[0;34m\u001b[0m\u001b[0m\n\u001b[0m\u001b[1;32m     71\u001b[0m         \u001b[0;32mfinally\u001b[0m\u001b[0;34m:\u001b[0m\u001b[0;34m\u001b[0m\u001b[0;34m\u001b[0m\u001b[0m\n\u001b[1;32m     72\u001b[0m             \u001b[0;32mdel\u001b[0m \u001b[0mfiltered_tb\u001b[0m\u001b[0;34m\u001b[0m\u001b[0;34m\u001b[0m\u001b[0m\n",
            "\u001b[0;32m/usr/local/lib/python3.9/dist-packages/keras/engine/input_spec.py\u001b[0m in \u001b[0;36massert_input_compatibility\u001b[0;34m(input_spec, inputs, layer_name)\u001b[0m\n\u001b[1;32m    278\u001b[0m                     \u001b[0;32mNone\u001b[0m\u001b[0;34m,\u001b[0m\u001b[0;34m\u001b[0m\u001b[0;34m\u001b[0m\u001b[0m\n\u001b[1;32m    279\u001b[0m                 }:\n\u001b[0;32m--> 280\u001b[0;31m                     raise ValueError(\n\u001b[0m\u001b[1;32m    281\u001b[0m                         \u001b[0;34mf'Input {input_index} of layer \"{layer_name}\" is '\u001b[0m\u001b[0;34m\u001b[0m\u001b[0;34m\u001b[0m\u001b[0m\n\u001b[1;32m    282\u001b[0m                         \u001b[0;34mf\"incompatible with the layer: expected axis {axis} \"\u001b[0m\u001b[0;34m\u001b[0m\u001b[0;34m\u001b[0m\u001b[0m\n",
            "\u001b[0;31mValueError\u001b[0m: Exception encountered when calling layer \"sequential_5\" (type Sequential).\n\nInput 0 of layer \"conv1d_2\" is incompatible with the layer: expected axis -1 of input shape to have value 1, but received input with shape (None, 16, 16)\n\nCall arguments received by layer \"sequential_5\" (type Sequential):\n  • inputs=tf.Tensor(shape=(None, 16, 16), dtype=float32)\n  • training=None\n  • mask=None"
          ]
        }
      ]
    }
  ]
}