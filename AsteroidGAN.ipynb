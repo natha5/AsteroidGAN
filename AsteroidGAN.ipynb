{
  "nbformat": 4,
  "nbformat_minor": 0,
  "metadata": {
    "colab": {
      "provenance": []
    },
    "kernelspec": {
      "name": "python3",
      "display_name": "Python 3"
    },
    "language_info": {
      "name": "python"
    },
    "accelerator": "GPU",
    "gpuClass": "standard"
  },
  "cells": [
    {
      "cell_type": "markdown",
      "source": [
        "# Imports"
      ],
      "metadata": {
        "id": "HSWuwdFI0uqr"
      }
    },
    {
      "cell_type": "code",
      "execution_count": 70,
      "metadata": {
        "id": "CmY_lJmazXLD"
      },
      "outputs": [],
      "source": [
        "import numpy as np\n",
        "import pandas as pd\n",
        "\n",
        "\n",
        "from keras.utils import to_categorical\n",
        "from keras.layers import Dense, Activation, Conv1D, Dropout\n",
        "from keras.models import Sequential"
      ]
    },
    {
      "cell_type": "markdown",
      "source": [
        "# Data pre-processing\n",
        "\n",
        "Due to the large size of dataset, many columns that are not needed and some rows containing null values have already been dropped"
      ],
      "metadata": {
        "id": "31YHj_tf0rBR"
      }
    },
    {
      "cell_type": "code",
      "source": [
        "data = pd.read_csv(\"dataset.csv\")\n",
        "\n",
        "data = data.drop(['class'], axis=1)\n",
        "data = data.dropna()\n",
        "data['neo'] = data['neo'].replace(('Y','N'), (1,0))\n",
        "data['pha'] = data['pha'].replace(('Y','N'), (1,0))\n",
        "\n",
        "#num_classes = data['class'].nunique()\n",
        "#classes = to_categorical(data['class'], num_classes)\n",
        "\n",
        "data = data.astype('float32')\n",
        "data /= 255\n",
        "\n",
        "print(data.shape)\n",
        "\n",
        "print(data.info)"
      ],
      "metadata": {
        "id": "NaRAER8R0w2L",
        "colab": {
          "base_uri": "https://localhost:8080/"
        },
        "outputId": "f40acab2-bda9-4ecb-f05c-724168880d25"
      },
      "execution_count": 71,
      "outputs": [
        {
          "output_type": "stream",
          "name": "stdout",
          "text": [
            "(131124, 17)\n",
            "<bound method DataFrame.info of         neo  pha         H  diameter    albedo     epoch_cal         e  \\\n",
            "0       0.0  0.0  0.013333  3.683922  0.000353  79178.148438  0.000298   \n",
            "1       0.0  0.0  0.016471  2.137255  0.000396  79217.773438  0.000902   \n",
            "2       0.0  0.0  0.020902  0.967043  0.000839  79217.773438  0.001008   \n",
            "3       0.0  0.0  0.011765  2.060392  0.001658  79178.148438  0.000348   \n",
            "4       0.0  0.0  0.027059  0.418427  0.001075  79217.773438  0.000749   \n",
            "...     ...  ...       ...       ...       ...           ...       ...   \n",
            "573686  0.0  0.0  0.061176  0.017612  0.000094  79217.773438  0.000717   \n",
            "573687  0.0  0.0  0.060000  0.018020  0.000361  79217.773438  0.000289   \n",
            "573688  0.0  0.0  0.060392  0.016024  0.000455  79217.773438  0.000326   \n",
            "573689  0.0  0.0  0.064314  0.012820  0.000408  79217.773438  0.000827   \n",
            "573690  0.0  0.0  0.065882  0.008361  0.000243  79217.773438  0.000899   \n",
            "\n",
            "               a         q         i        om         w        ad         n  \\\n",
            "0       0.010859  0.010034  0.041545  0.314924  0.288618  0.011685  0.000839   \n",
            "1       0.010878  0.008376  0.136600  0.678528  1.216480  0.013379  0.000837   \n",
            "2       0.010464  0.007775  0.050945  0.666084  0.972809  0.013152  0.000887   \n",
            "3       0.009260  0.008439  0.028007  0.407101  0.591092  0.010082  0.001065   \n",
            "4       0.010094  0.008167  0.021049  0.555180  1.406464  0.012021  0.000936   \n",
            "...          ...       ...       ...       ...       ...       ...       ...   \n",
            "573686  0.011518  0.009411  0.109669  0.674466  0.631966  0.013625  0.000768   \n",
            "573687  0.012456  0.011538  0.090955  0.168830  0.812197  0.013374  0.000683   \n",
            "573688  0.012663  0.011610  0.064425  0.247204  0.285630  0.013716  0.000666   \n",
            "573689  0.012432  0.009811  0.052861  0.314412  0.295110  0.015053  0.000685   \n",
            "573690  0.011454  0.008827  0.063265  0.714666  1.132945  0.014080  0.000774   \n",
            "\n",
            "              tp_cal       per      moid  \n",
            "0       79138.937500  6.600572  0.006254  \n",
            "1       79140.085938  6.617298  0.004840  \n",
            "2       79141.664062  6.243191  0.004056  \n",
            "3       79139.257812  5.197775  0.004469  \n",
            "4       79216.929688  5.915351  0.004297  \n",
            "...              ...       ...       ...  \n",
            "573686  79137.734375  7.209965  0.005500  \n",
            "573687  79297.695312  8.108079  0.007620  \n",
            "573688  79256.156250  8.311297  0.007947  \n",
            "573689  79256.945312  8.085117  0.006092  \n",
            "573690  79217.289062  7.149632  0.005193  \n",
            "\n",
            "[131124 rows x 17 columns]>\n"
          ]
        },
        {
          "output_type": "stream",
          "name": "stderr",
          "text": [
            "<ipython-input-71-32017f0d9dca>:5: SettingWithCopyWarning: \n",
            "A value is trying to be set on a copy of a slice from a DataFrame.\n",
            "Try using .loc[row_indexer,col_indexer] = value instead\n",
            "\n",
            "See the caveats in the documentation: https://pandas.pydata.org/pandas-docs/stable/user_guide/indexing.html#returning-a-view-versus-a-copy\n",
            "  data['neo'] = data['neo'].replace(('Y','N'), (1,0))\n",
            "<ipython-input-71-32017f0d9dca>:6: SettingWithCopyWarning: \n",
            "A value is trying to be set on a copy of a slice from a DataFrame.\n",
            "Try using .loc[row_indexer,col_indexer] = value instead\n",
            "\n",
            "See the caveats in the documentation: https://pandas.pydata.org/pandas-docs/stable/user_guide/indexing.html#returning-a-view-versus-a-copy\n",
            "  data['pha'] = data['pha'].replace(('Y','N'), (1,0))\n"
          ]
        }
      ]
    },
    {
      "cell_type": "code",
      "source": [
        "data"
      ],
      "metadata": {
        "colab": {
          "base_uri": "https://localhost:8080/",
          "height": 488
        },
        "id": "od7H_lm3WAIQ",
        "outputId": "ae8ece44-0b10-4206-980a-4942e8329535"
      },
      "execution_count": 20,
      "outputs": [
        {
          "output_type": "execute_result",
          "data": {
            "text/plain": [
              "        neo  pha      H  diameter  albedo  epoch_cal         e         a  \\\n",
              "0         0    0   3.40   939.400  0.0900   20190427  0.076009  2.769165   \n",
              "1         0    0   4.20   545.000  0.1010   20200531  0.229972  2.773841   \n",
              "2         0    0   5.33   246.596  0.2140   20200531  0.256936  2.668285   \n",
              "3         0    0   3.00   525.400  0.4228   20190427  0.088721  2.361418   \n",
              "4         0    0   6.90   106.699  0.2740   20200531  0.190913  2.574037   \n",
              "...     ...  ...    ...       ...     ...        ...       ...       ...   \n",
              "573686    0    0  15.60     4.491  0.0240   20200531  0.182925  2.937086   \n",
              "573687    0    0  15.30     4.595  0.0920   20200531  0.073698  3.176190   \n",
              "573688    0    0  15.40     4.086  0.1160   20200531  0.083151  3.229042   \n",
              "573689    0    0  16.40     3.269  0.1040   20200531  0.210836  3.170190   \n",
              "573690    0    0  16.80     2.132  0.0620   20200531  0.229331  2.920677   \n",
              "\n",
              "               q          i          om           w        ad         n  \\\n",
              "0       2.558684  10.594067   80.305531   73.597695  2.979647  0.213885   \n",
              "1       2.135935  34.832932  173.024741  310.202392  3.411748  0.213345   \n",
              "2       1.982706  12.991043  169.851483  248.066193  3.353865  0.226129   \n",
              "3       2.151909   7.141771  103.810804  150.728541  2.570926  0.271609   \n",
              "4       2.082619   5.367427  141.571026  358.648418  3.065455  0.238661   \n",
              "...          ...        ...         ...         ...       ...       ...   \n",
              "573686  2.399819  27.965560  171.988705  161.151266  3.474352  0.195807   \n",
              "573687  2.942112  23.193462   43.051531  207.110303  3.410268  0.174118   \n",
              "573688  2.960545  16.428329   63.037073   72.835544  3.497539  0.169861   \n",
              "573689  2.501800  13.479527   80.175164   75.253005  3.838581  0.174613   \n",
              "573690  2.250876  16.132632  182.239814  288.901008  3.590479  0.197460   \n",
              "\n",
              "             tp_cal          per     moid  \n",
              "0       20180430.25  1683.145703  1.59478  \n",
              "1       20180721.46  1687.410992  1.23429  \n",
              "2       20181123.29  1592.013769  1.03429  \n",
              "3       20180509.06  1325.432763  1.13948  \n",
              "4       20200317.22  1508.414421  1.09575  \n",
              "...             ...          ...      ...  \n",
              "573686  20180122.67  1838.541007  1.40243  \n",
              "573687  20220911.64  2067.560001  1.94299  \n",
              "573688  20210320.91  2119.380839  2.02639  \n",
              "573689  20210522.88  2061.704725  1.55350  \n",
              "573690  20200408.60  1823.155956  1.32431  \n",
              "\n",
              "[131124 rows x 17 columns]"
            ],
            "text/html": [
              "\n",
              "  <div id=\"df-65ab4899-2904-4f28-ac62-47f3efe8dca0\">\n",
              "    <div class=\"colab-df-container\">\n",
              "      <div>\n",
              "<style scoped>\n",
              "    .dataframe tbody tr th:only-of-type {\n",
              "        vertical-align: middle;\n",
              "    }\n",
              "\n",
              "    .dataframe tbody tr th {\n",
              "        vertical-align: top;\n",
              "    }\n",
              "\n",
              "    .dataframe thead th {\n",
              "        text-align: right;\n",
              "    }\n",
              "</style>\n",
              "<table border=\"1\" class=\"dataframe\">\n",
              "  <thead>\n",
              "    <tr style=\"text-align: right;\">\n",
              "      <th></th>\n",
              "      <th>neo</th>\n",
              "      <th>pha</th>\n",
              "      <th>H</th>\n",
              "      <th>diameter</th>\n",
              "      <th>albedo</th>\n",
              "      <th>epoch_cal</th>\n",
              "      <th>e</th>\n",
              "      <th>a</th>\n",
              "      <th>q</th>\n",
              "      <th>i</th>\n",
              "      <th>om</th>\n",
              "      <th>w</th>\n",
              "      <th>ad</th>\n",
              "      <th>n</th>\n",
              "      <th>tp_cal</th>\n",
              "      <th>per</th>\n",
              "      <th>moid</th>\n",
              "    </tr>\n",
              "  </thead>\n",
              "  <tbody>\n",
              "    <tr>\n",
              "      <th>0</th>\n",
              "      <td>0</td>\n",
              "      <td>0</td>\n",
              "      <td>3.40</td>\n",
              "      <td>939.400</td>\n",
              "      <td>0.0900</td>\n",
              "      <td>20190427</td>\n",
              "      <td>0.076009</td>\n",
              "      <td>2.769165</td>\n",
              "      <td>2.558684</td>\n",
              "      <td>10.594067</td>\n",
              "      <td>80.305531</td>\n",
              "      <td>73.597695</td>\n",
              "      <td>2.979647</td>\n",
              "      <td>0.213885</td>\n",
              "      <td>20180430.25</td>\n",
              "      <td>1683.145703</td>\n",
              "      <td>1.59478</td>\n",
              "    </tr>\n",
              "    <tr>\n",
              "      <th>1</th>\n",
              "      <td>0</td>\n",
              "      <td>0</td>\n",
              "      <td>4.20</td>\n",
              "      <td>545.000</td>\n",
              "      <td>0.1010</td>\n",
              "      <td>20200531</td>\n",
              "      <td>0.229972</td>\n",
              "      <td>2.773841</td>\n",
              "      <td>2.135935</td>\n",
              "      <td>34.832932</td>\n",
              "      <td>173.024741</td>\n",
              "      <td>310.202392</td>\n",
              "      <td>3.411748</td>\n",
              "      <td>0.213345</td>\n",
              "      <td>20180721.46</td>\n",
              "      <td>1687.410992</td>\n",
              "      <td>1.23429</td>\n",
              "    </tr>\n",
              "    <tr>\n",
              "      <th>2</th>\n",
              "      <td>0</td>\n",
              "      <td>0</td>\n",
              "      <td>5.33</td>\n",
              "      <td>246.596</td>\n",
              "      <td>0.2140</td>\n",
              "      <td>20200531</td>\n",
              "      <td>0.256936</td>\n",
              "      <td>2.668285</td>\n",
              "      <td>1.982706</td>\n",
              "      <td>12.991043</td>\n",
              "      <td>169.851483</td>\n",
              "      <td>248.066193</td>\n",
              "      <td>3.353865</td>\n",
              "      <td>0.226129</td>\n",
              "      <td>20181123.29</td>\n",
              "      <td>1592.013769</td>\n",
              "      <td>1.03429</td>\n",
              "    </tr>\n",
              "    <tr>\n",
              "      <th>3</th>\n",
              "      <td>0</td>\n",
              "      <td>0</td>\n",
              "      <td>3.00</td>\n",
              "      <td>525.400</td>\n",
              "      <td>0.4228</td>\n",
              "      <td>20190427</td>\n",
              "      <td>0.088721</td>\n",
              "      <td>2.361418</td>\n",
              "      <td>2.151909</td>\n",
              "      <td>7.141771</td>\n",
              "      <td>103.810804</td>\n",
              "      <td>150.728541</td>\n",
              "      <td>2.570926</td>\n",
              "      <td>0.271609</td>\n",
              "      <td>20180509.06</td>\n",
              "      <td>1325.432763</td>\n",
              "      <td>1.13948</td>\n",
              "    </tr>\n",
              "    <tr>\n",
              "      <th>4</th>\n",
              "      <td>0</td>\n",
              "      <td>0</td>\n",
              "      <td>6.90</td>\n",
              "      <td>106.699</td>\n",
              "      <td>0.2740</td>\n",
              "      <td>20200531</td>\n",
              "      <td>0.190913</td>\n",
              "      <td>2.574037</td>\n",
              "      <td>2.082619</td>\n",
              "      <td>5.367427</td>\n",
              "      <td>141.571026</td>\n",
              "      <td>358.648418</td>\n",
              "      <td>3.065455</td>\n",
              "      <td>0.238661</td>\n",
              "      <td>20200317.22</td>\n",
              "      <td>1508.414421</td>\n",
              "      <td>1.09575</td>\n",
              "    </tr>\n",
              "    <tr>\n",
              "      <th>...</th>\n",
              "      <td>...</td>\n",
              "      <td>...</td>\n",
              "      <td>...</td>\n",
              "      <td>...</td>\n",
              "      <td>...</td>\n",
              "      <td>...</td>\n",
              "      <td>...</td>\n",
              "      <td>...</td>\n",
              "      <td>...</td>\n",
              "      <td>...</td>\n",
              "      <td>...</td>\n",
              "      <td>...</td>\n",
              "      <td>...</td>\n",
              "      <td>...</td>\n",
              "      <td>...</td>\n",
              "      <td>...</td>\n",
              "      <td>...</td>\n",
              "    </tr>\n",
              "    <tr>\n",
              "      <th>573686</th>\n",
              "      <td>0</td>\n",
              "      <td>0</td>\n",
              "      <td>15.60</td>\n",
              "      <td>4.491</td>\n",
              "      <td>0.0240</td>\n",
              "      <td>20200531</td>\n",
              "      <td>0.182925</td>\n",
              "      <td>2.937086</td>\n",
              "      <td>2.399819</td>\n",
              "      <td>27.965560</td>\n",
              "      <td>171.988705</td>\n",
              "      <td>161.151266</td>\n",
              "      <td>3.474352</td>\n",
              "      <td>0.195807</td>\n",
              "      <td>20180122.67</td>\n",
              "      <td>1838.541007</td>\n",
              "      <td>1.40243</td>\n",
              "    </tr>\n",
              "    <tr>\n",
              "      <th>573687</th>\n",
              "      <td>0</td>\n",
              "      <td>0</td>\n",
              "      <td>15.30</td>\n",
              "      <td>4.595</td>\n",
              "      <td>0.0920</td>\n",
              "      <td>20200531</td>\n",
              "      <td>0.073698</td>\n",
              "      <td>3.176190</td>\n",
              "      <td>2.942112</td>\n",
              "      <td>23.193462</td>\n",
              "      <td>43.051531</td>\n",
              "      <td>207.110303</td>\n",
              "      <td>3.410268</td>\n",
              "      <td>0.174118</td>\n",
              "      <td>20220911.64</td>\n",
              "      <td>2067.560001</td>\n",
              "      <td>1.94299</td>\n",
              "    </tr>\n",
              "    <tr>\n",
              "      <th>573688</th>\n",
              "      <td>0</td>\n",
              "      <td>0</td>\n",
              "      <td>15.40</td>\n",
              "      <td>4.086</td>\n",
              "      <td>0.1160</td>\n",
              "      <td>20200531</td>\n",
              "      <td>0.083151</td>\n",
              "      <td>3.229042</td>\n",
              "      <td>2.960545</td>\n",
              "      <td>16.428329</td>\n",
              "      <td>63.037073</td>\n",
              "      <td>72.835544</td>\n",
              "      <td>3.497539</td>\n",
              "      <td>0.169861</td>\n",
              "      <td>20210320.91</td>\n",
              "      <td>2119.380839</td>\n",
              "      <td>2.02639</td>\n",
              "    </tr>\n",
              "    <tr>\n",
              "      <th>573689</th>\n",
              "      <td>0</td>\n",
              "      <td>0</td>\n",
              "      <td>16.40</td>\n",
              "      <td>3.269</td>\n",
              "      <td>0.1040</td>\n",
              "      <td>20200531</td>\n",
              "      <td>0.210836</td>\n",
              "      <td>3.170190</td>\n",
              "      <td>2.501800</td>\n",
              "      <td>13.479527</td>\n",
              "      <td>80.175164</td>\n",
              "      <td>75.253005</td>\n",
              "      <td>3.838581</td>\n",
              "      <td>0.174613</td>\n",
              "      <td>20210522.88</td>\n",
              "      <td>2061.704725</td>\n",
              "      <td>1.55350</td>\n",
              "    </tr>\n",
              "    <tr>\n",
              "      <th>573690</th>\n",
              "      <td>0</td>\n",
              "      <td>0</td>\n",
              "      <td>16.80</td>\n",
              "      <td>2.132</td>\n",
              "      <td>0.0620</td>\n",
              "      <td>20200531</td>\n",
              "      <td>0.229331</td>\n",
              "      <td>2.920677</td>\n",
              "      <td>2.250876</td>\n",
              "      <td>16.132632</td>\n",
              "      <td>182.239814</td>\n",
              "      <td>288.901008</td>\n",
              "      <td>3.590479</td>\n",
              "      <td>0.197460</td>\n",
              "      <td>20200408.60</td>\n",
              "      <td>1823.155956</td>\n",
              "      <td>1.32431</td>\n",
              "    </tr>\n",
              "  </tbody>\n",
              "</table>\n",
              "<p>131124 rows × 17 columns</p>\n",
              "</div>\n",
              "      <button class=\"colab-df-convert\" onclick=\"convertToInteractive('df-65ab4899-2904-4f28-ac62-47f3efe8dca0')\"\n",
              "              title=\"Convert this dataframe to an interactive table.\"\n",
              "              style=\"display:none;\">\n",
              "        \n",
              "  <svg xmlns=\"http://www.w3.org/2000/svg\" height=\"24px\"viewBox=\"0 0 24 24\"\n",
              "       width=\"24px\">\n",
              "    <path d=\"M0 0h24v24H0V0z\" fill=\"none\"/>\n",
              "    <path d=\"M18.56 5.44l.94 2.06.94-2.06 2.06-.94-2.06-.94-.94-2.06-.94 2.06-2.06.94zm-11 1L8.5 8.5l.94-2.06 2.06-.94-2.06-.94L8.5 2.5l-.94 2.06-2.06.94zm10 10l.94 2.06.94-2.06 2.06-.94-2.06-.94-.94-2.06-.94 2.06-2.06.94z\"/><path d=\"M17.41 7.96l-1.37-1.37c-.4-.4-.92-.59-1.43-.59-.52 0-1.04.2-1.43.59L10.3 9.45l-7.72 7.72c-.78.78-.78 2.05 0 2.83L4 21.41c.39.39.9.59 1.41.59.51 0 1.02-.2 1.41-.59l7.78-7.78 2.81-2.81c.8-.78.8-2.07 0-2.86zM5.41 20L4 18.59l7.72-7.72 1.47 1.35L5.41 20z\"/>\n",
              "  </svg>\n",
              "      </button>\n",
              "      \n",
              "  <style>\n",
              "    .colab-df-container {\n",
              "      display:flex;\n",
              "      flex-wrap:wrap;\n",
              "      gap: 12px;\n",
              "    }\n",
              "\n",
              "    .colab-df-convert {\n",
              "      background-color: #E8F0FE;\n",
              "      border: none;\n",
              "      border-radius: 50%;\n",
              "      cursor: pointer;\n",
              "      display: none;\n",
              "      fill: #1967D2;\n",
              "      height: 32px;\n",
              "      padding: 0 0 0 0;\n",
              "      width: 32px;\n",
              "    }\n",
              "\n",
              "    .colab-df-convert:hover {\n",
              "      background-color: #E2EBFA;\n",
              "      box-shadow: 0px 1px 2px rgba(60, 64, 67, 0.3), 0px 1px 3px 1px rgba(60, 64, 67, 0.15);\n",
              "      fill: #174EA6;\n",
              "    }\n",
              "\n",
              "    [theme=dark] .colab-df-convert {\n",
              "      background-color: #3B4455;\n",
              "      fill: #D2E3FC;\n",
              "    }\n",
              "\n",
              "    [theme=dark] .colab-df-convert:hover {\n",
              "      background-color: #434B5C;\n",
              "      box-shadow: 0px 1px 3px 1px rgba(0, 0, 0, 0.15);\n",
              "      filter: drop-shadow(0px 1px 2px rgba(0, 0, 0, 0.3));\n",
              "      fill: #FFFFFF;\n",
              "    }\n",
              "  </style>\n",
              "\n",
              "      <script>\n",
              "        const buttonEl =\n",
              "          document.querySelector('#df-65ab4899-2904-4f28-ac62-47f3efe8dca0 button.colab-df-convert');\n",
              "        buttonEl.style.display =\n",
              "          google.colab.kernel.accessAllowed ? 'block' : 'none';\n",
              "\n",
              "        async function convertToInteractive(key) {\n",
              "          const element = document.querySelector('#df-65ab4899-2904-4f28-ac62-47f3efe8dca0');\n",
              "          const dataTable =\n",
              "            await google.colab.kernel.invokeFunction('convertToInteractive',\n",
              "                                                     [key], {});\n",
              "          if (!dataTable) return;\n",
              "\n",
              "          const docLinkHtml = 'Like what you see? Visit the ' +\n",
              "            '<a target=\"_blank\" href=https://colab.research.google.com/notebooks/data_table.ipynb>data table notebook</a>'\n",
              "            + ' to learn more about interactive tables.';\n",
              "          element.innerHTML = '';\n",
              "          dataTable['output_type'] = 'display_data';\n",
              "          await google.colab.output.renderOutput(dataTable, element);\n",
              "          const docLink = document.createElement('div');\n",
              "          docLink.innerHTML = docLinkHtml;\n",
              "          element.appendChild(docLink);\n",
              "        }\n",
              "      </script>\n",
              "    </div>\n",
              "  </div>\n",
              "  "
            ]
          },
          "metadata": {},
          "execution_count": 20
        }
      ]
    },
    {
      "cell_type": "markdown",
      "source": [
        "Training parameters\n"
      ],
      "metadata": {
        "id": "Im19QWilH2OL"
      }
    },
    {
      "cell_type": "code",
      "source": [
        "INPUT_SHAPE = (17,1)\n",
        "OPTIMIZER = 'adam'\n",
        "LOSS = 'binary_crossentropy'\n",
        "METRICS = 'accuracy'\n",
        "\n",
        "BATCH_SIZE = 128\n",
        "N_EPOCHS = 20\n",
        "VERBOSE = 1"
      ],
      "metadata": {
        "id": "nfLDJUYCNVvI"
      },
      "execution_count": 72,
      "outputs": []
    },
    {
      "cell_type": "markdown",
      "source": [
        "# Generator model\n",
        "18 outputs as there are 18 columns in the dataset"
      ],
      "metadata": {
        "id": "4yFogldYp9gW"
      }
    },
    {
      "cell_type": "code",
      "source": [
        "def make_generator(latent_dim):\n",
        "  model = Sequential()\n",
        "  \n",
        "  model.add(Dense(40, activation='relu', input_dim=latent_dim))\n",
        "  model.add(Dense(18, activation='sigmoid'))\n",
        "\n",
        "  return model"
      ],
      "metadata": {
        "id": "594ZrKNrNOVt"
      },
      "execution_count": 40,
      "outputs": []
    },
    {
      "cell_type": "markdown",
      "source": [
        "# Discriminator model\n",
        "This is a binary CNN classifier, to determine whether the input is 'real' or not"
      ],
      "metadata": {
        "id": "nfK5IwLMrRPf"
      }
    },
    {
      "cell_type": "code",
      "source": [
        "def make_discriminator():\n",
        "  model = Sequential()\n",
        "\n",
        "  model.add(Conv1D(64, kernel_size=5, padding='same', activation='relu', input_shape=(17,1)))\n",
        "\n",
        "  model.add(Dense(1, activation='sigmoid'))\n",
        "\n",
        "  return model"
      ],
      "metadata": {
        "id": "yHa3MhT8rQvA"
      },
      "execution_count": 75,
      "outputs": []
    },
    {
      "cell_type": "code",
      "source": [
        "model = make_discriminator()\n",
        "\n",
        "model.compile(loss=LOSS, optimizer=OPTIMIZER, metrics=METRICS)\n",
        "model.summary()"
      ],
      "metadata": {
        "colab": {
          "base_uri": "https://localhost:8080/"
        },
        "id": "slp2HkUaOfmN",
        "outputId": "f340a77a-3110-4cc4-b5fd-82afcfc0342d"
      },
      "execution_count": 80,
      "outputs": [
        {
          "output_type": "stream",
          "name": "stdout",
          "text": [
            "Model: \"sequential_21\"\n",
            "_________________________________________________________________\n",
            " Layer (type)                Output Shape              Param #   \n",
            "=================================================================\n",
            " conv1d_21 (Conv1D)          (None, 17, 64)            384       \n",
            "                                                                 \n",
            " dense_12 (Dense)            (None, 17, 1)             65        \n",
            "                                                                 \n",
            "=================================================================\n",
            "Total params: 449\n",
            "Trainable params: 449\n",
            "Non-trainable params: 0\n",
            "_________________________________________________________________\n"
          ]
        }
      ]
    },
    {
      "cell_type": "code",
      "source": [
        "history = model.fit(data, epochs=N_EPOCHS, verbose=VERBOSE)"
      ],
      "metadata": {
        "colab": {
          "base_uri": "https://localhost:8080/",
          "height": 571
        },
        "id": "AkmvH66zSjMt",
        "outputId": "489ed3b4-8e0b-458b-b830-765d04ac4365"
      },
      "execution_count": 81,
      "outputs": [
        {
          "output_type": "stream",
          "name": "stdout",
          "text": [
            "Epoch 1/20\n"
          ]
        },
        {
          "output_type": "error",
          "ename": "ValueError",
          "evalue": "ignored",
          "traceback": [
            "\u001b[0;31m---------------------------------------------------------------------------\u001b[0m",
            "\u001b[0;31mValueError\u001b[0m                                Traceback (most recent call last)",
            "\u001b[0;32m<ipython-input-81-f813747bb998>\u001b[0m in \u001b[0;36m<cell line: 1>\u001b[0;34m()\u001b[0m\n\u001b[0;32m----> 1\u001b[0;31m \u001b[0mhistory\u001b[0m \u001b[0;34m=\u001b[0m \u001b[0mmodel\u001b[0m\u001b[0;34m.\u001b[0m\u001b[0mfit\u001b[0m\u001b[0;34m(\u001b[0m\u001b[0mdata\u001b[0m\u001b[0;34m,\u001b[0m \u001b[0mepochs\u001b[0m\u001b[0;34m=\u001b[0m\u001b[0mN_EPOCHS\u001b[0m\u001b[0;34m,\u001b[0m \u001b[0mverbose\u001b[0m\u001b[0;34m=\u001b[0m\u001b[0mVERBOSE\u001b[0m\u001b[0;34m)\u001b[0m\u001b[0;34m\u001b[0m\u001b[0;34m\u001b[0m\u001b[0m\n\u001b[0m",
            "\u001b[0;32m/usr/local/lib/python3.9/dist-packages/keras/utils/traceback_utils.py\u001b[0m in \u001b[0;36merror_handler\u001b[0;34m(*args, **kwargs)\u001b[0m\n\u001b[1;32m     68\u001b[0m             \u001b[0;31m# To get the full stack trace, call:\u001b[0m\u001b[0;34m\u001b[0m\u001b[0;34m\u001b[0m\u001b[0m\n\u001b[1;32m     69\u001b[0m             \u001b[0;31m# `tf.debugging.disable_traceback_filtering()`\u001b[0m\u001b[0;34m\u001b[0m\u001b[0;34m\u001b[0m\u001b[0m\n\u001b[0;32m---> 70\u001b[0;31m             \u001b[0;32mraise\u001b[0m \u001b[0me\u001b[0m\u001b[0;34m.\u001b[0m\u001b[0mwith_traceback\u001b[0m\u001b[0;34m(\u001b[0m\u001b[0mfiltered_tb\u001b[0m\u001b[0;34m)\u001b[0m \u001b[0;32mfrom\u001b[0m \u001b[0;32mNone\u001b[0m\u001b[0;34m\u001b[0m\u001b[0;34m\u001b[0m\u001b[0m\n\u001b[0m\u001b[1;32m     71\u001b[0m         \u001b[0;32mfinally\u001b[0m\u001b[0;34m:\u001b[0m\u001b[0;34m\u001b[0m\u001b[0;34m\u001b[0m\u001b[0m\n\u001b[1;32m     72\u001b[0m             \u001b[0;32mdel\u001b[0m \u001b[0mfiltered_tb\u001b[0m\u001b[0;34m\u001b[0m\u001b[0;34m\u001b[0m\u001b[0m\n",
            "\u001b[0;32m/usr/local/lib/python3.9/dist-packages/keras/engine/training.py\u001b[0m in \u001b[0;36mtf__train_function\u001b[0;34m(iterator)\u001b[0m\n\u001b[1;32m     13\u001b[0m                 \u001b[0;32mtry\u001b[0m\u001b[0;34m:\u001b[0m\u001b[0;34m\u001b[0m\u001b[0;34m\u001b[0m\u001b[0m\n\u001b[1;32m     14\u001b[0m                     \u001b[0mdo_return\u001b[0m \u001b[0;34m=\u001b[0m \u001b[0;32mTrue\u001b[0m\u001b[0;34m\u001b[0m\u001b[0;34m\u001b[0m\u001b[0m\n\u001b[0;32m---> 15\u001b[0;31m                     \u001b[0mretval_\u001b[0m \u001b[0;34m=\u001b[0m \u001b[0mag__\u001b[0m\u001b[0;34m.\u001b[0m\u001b[0mconverted_call\u001b[0m\u001b[0;34m(\u001b[0m\u001b[0mag__\u001b[0m\u001b[0;34m.\u001b[0m\u001b[0mld\u001b[0m\u001b[0;34m(\u001b[0m\u001b[0mstep_function\u001b[0m\u001b[0;34m)\u001b[0m\u001b[0;34m,\u001b[0m \u001b[0;34m(\u001b[0m\u001b[0mag__\u001b[0m\u001b[0;34m.\u001b[0m\u001b[0mld\u001b[0m\u001b[0;34m(\u001b[0m\u001b[0mself\u001b[0m\u001b[0;34m)\u001b[0m\u001b[0;34m,\u001b[0m \u001b[0mag__\u001b[0m\u001b[0;34m.\u001b[0m\u001b[0mld\u001b[0m\u001b[0;34m(\u001b[0m\u001b[0miterator\u001b[0m\u001b[0;34m)\u001b[0m\u001b[0;34m)\u001b[0m\u001b[0;34m,\u001b[0m \u001b[0;32mNone\u001b[0m\u001b[0;34m,\u001b[0m \u001b[0mfscope\u001b[0m\u001b[0;34m)\u001b[0m\u001b[0;34m\u001b[0m\u001b[0;34m\u001b[0m\u001b[0m\n\u001b[0m\u001b[1;32m     16\u001b[0m                 \u001b[0;32mexcept\u001b[0m\u001b[0;34m:\u001b[0m\u001b[0;34m\u001b[0m\u001b[0;34m\u001b[0m\u001b[0m\n\u001b[1;32m     17\u001b[0m                     \u001b[0mdo_return\u001b[0m \u001b[0;34m=\u001b[0m \u001b[0;32mFalse\u001b[0m\u001b[0;34m\u001b[0m\u001b[0;34m\u001b[0m\u001b[0m\n",
            "\u001b[0;31mValueError\u001b[0m: in user code:\n\n    File \"/usr/local/lib/python3.9/dist-packages/keras/engine/training.py\", line 1284, in train_function  *\n        return step_function(self, iterator)\n    File \"/usr/local/lib/python3.9/dist-packages/keras/engine/training.py\", line 1268, in step_function  **\n        outputs = model.distribute_strategy.run(run_step, args=(data,))\n    File \"/usr/local/lib/python3.9/dist-packages/keras/engine/training.py\", line 1249, in run_step  **\n        outputs = model.train_step(data)\n    File \"/usr/local/lib/python3.9/dist-packages/keras/engine/training.py\", line 1052, in train_step\n        self._validate_target_and_loss(y, loss)\n    File \"/usr/local/lib/python3.9/dist-packages/keras/engine/training.py\", line 1006, in _validate_target_and_loss\n        raise ValueError(\n\n    ValueError: Target data is missing. Your model was compiled with loss=binary_crossentropy, and therefore expects target data to be provided in `fit()`.\n"
          ]
        }
      ]
    },
    {
      "cell_type": "markdown",
      "source": [
        "# Putting the GAN together"
      ],
      "metadata": {
        "id": "-h1o0Ycc02vZ"
      }
    },
    {
      "cell_type": "code",
      "source": [
        "def make_gan(generator, discriminator):\n",
        "  model = Sequential()\n",
        "  model.add(generator)\n",
        "  model.add(discriminator)\n",
        "  model.compile(loss='binary_crossentropy', optimizer=OPTIMIZER)\n",
        "  return model"
      ],
      "metadata": {
        "id": "QSBHHSoV06Oh"
      },
      "execution_count": null,
      "outputs": []
    },
    {
      "cell_type": "code",
      "source": [
        "generator = make_generator()\n",
        "discriminator = make_discriminator()\n",
        "gan = make_gan(generator, discriminator)"
      ],
      "metadata": {
        "id": "UNA2v9Mg1_Hw"
      },
      "execution_count": null,
      "outputs": []
    }
  ]
}